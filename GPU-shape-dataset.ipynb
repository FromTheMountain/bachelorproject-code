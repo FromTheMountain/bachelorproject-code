{
 "cells": [
  {
   "cell_type": "code",
   "execution_count": 52,
   "id": "bff240b6",
   "metadata": {},
   "outputs": [
    {
     "ename": "ModuleNotFoundError",
     "evalue": "No module named 'radontools'",
     "output_type": "error",
     "traceback": [
      "\u001b[0;31m---------------------------------------------------------------------------\u001b[0m",
      "\u001b[0;31mModuleNotFoundError\u001b[0m                       Traceback (most recent call last)",
      "\u001b[0;32m/tmp/ipykernel_28892/3467689237.py\u001b[0m in \u001b[0;36m<module>\u001b[0;34m\u001b[0m\n\u001b[1;32m      7\u001b[0m \u001b[0;32mfrom\u001b[0m \u001b[0mPIL\u001b[0m \u001b[0;32mimport\u001b[0m \u001b[0mImage\u001b[0m\u001b[0;34m\u001b[0m\u001b[0;34m\u001b[0m\u001b[0m\n\u001b[1;32m      8\u001b[0m \u001b[0;34m\u001b[0m\u001b[0m\n\u001b[0;32m----> 9\u001b[0;31m \u001b[0;32mfrom\u001b[0m \u001b[0mradontools\u001b[0m \u001b[0;32mimport\u001b[0m \u001b[0madd_scan_noise\u001b[0m\u001b[0;34m\u001b[0m\u001b[0;34m\u001b[0m\u001b[0m\n\u001b[0m\u001b[1;32m     10\u001b[0m \u001b[0;34m\u001b[0m\u001b[0m\n\u001b[1;32m     11\u001b[0m \u001b[0mget_ipython\u001b[0m\u001b[0;34m(\u001b[0m\u001b[0;34m)\u001b[0m\u001b[0;34m.\u001b[0m\u001b[0mrun_line_magic\u001b[0m\u001b[0;34m(\u001b[0m\u001b[0;34m'matplotlib'\u001b[0m\u001b[0;34m,\u001b[0m \u001b[0;34m'inline'\u001b[0m\u001b[0;34m)\u001b[0m\u001b[0;34m\u001b[0m\u001b[0;34m\u001b[0m\u001b[0m\n",
      "\u001b[0;31mModuleNotFoundError\u001b[0m: No module named 'radontools'"
     ]
    }
   ],
   "source": [
    "import numpy as np\n",
    "import matplotlib.pyplot as plt\n",
    "import torch\n",
    "from torch import nn, optim\n",
    "from torch.utils.data import DataLoader, Dataset, random_split\n",
    "from scipy.ndimage import gaussian_filter\n",
    "from PIL import Image\n",
    "\n",
    "from radontools import add_scan_noise\n",
    "\n",
    "%matplotlib inline\n",
    "\n",
    "random = np.random.default_rng()"
   ]
  },
  {
   "cell_type": "markdown",
   "id": "9e457fbc",
   "metadata": {},
   "source": [
    "# Dataset generation"
   ]
  },
  {
   "cell_type": "markdown",
   "id": "f2860619",
   "metadata": {},
   "source": [
    "## Defining the functions for image generation"
   ]
  },
  {
   "cell_type": "code",
   "execution_count": 49,
   "id": "4d40a512",
   "metadata": {},
   "outputs": [],
   "source": [
    "def get_transformed_coordinates(max_width, max_height):\n",
    "    \"\"\"The idea for generating geometric shapes is to take a standard\n",
    "    shape (like the circle x^2 + y^2 < 1) and then apply a sequence of\n",
    "    transformations to turn it into a randomly positioned, stretched,\n",
    "    and rotated shape (like an ellipse). The way to do this is to apply\n",
    "    the inverse transformations in reverse order to a coordinate grid.\n",
    "    This function creates such a transformed coordinate grid. We first\n",
    "    translate, then rotate, then scale, and finally flip. So the\n",
    "    geometrical shape is first flipped, then scaled, then rotated, and\n",
    "    finally translated.\n",
    "    \"\"\"\n",
    "    x = np.arange(max_width)\n",
    "    y = np.arange(max_height)\n",
    "    \n",
    "    xx, yy = np.meshgrid(x, y)\n",
    "    \n",
    "    # The center of the shape will be at (cx, cy).\n",
    "    cx = random.integers(max_width  // 4, 3 * max_width  // 4)\n",
    "    cy = random.integers(max_height // 4, 3 * max_height // 4)\n",
    "    \n",
    "    # The shape will be rotated at angle theta.\n",
    "    theta = np.pi / 2 * random.random()   \n",
    "    \n",
    "    # Next, we calculate the length of the axes of the shape. We need\n",
    "    # to take into consideration the angle when calculating the upper\n",
    "    # bounds.\n",
    "    max_width  = np.minimum(int(cx / np.sin(theta)), int(cy / np.cos(theta)))\n",
    "    max_height = np.minimum(int(cx / np.cos(theta)), int(cy / np.sin(theta)))\n",
    "    \n",
    "    width  = random.integers(1 , max_width)\n",
    "    height = random.integers(1, max_height)\n",
    "    \n",
    "    # Translation to aligh with the center\n",
    "    xx -= cx\n",
    "    yy -= cy\n",
    "    \n",
    "    # Rotation according to theta\n",
    "    xx, yy = xx * np.cos(theta) + yy * np.sin(theta), \\\n",
    "             xx * np.sin(theta) - yy * np.cos(theta)\n",
    "    \n",
    "    # Scale according to the specified width and height\n",
    "    xx /= width / 2\n",
    "    yy /= height / 2\n",
    "    \n",
    "    # Flip over x- and y-axes. Get a random 2-bit integer, and read off\n",
    "    # each bit as a bool.\n",
    "    flip = random.integers(0, 4, 1)\n",
    "    \n",
    "    if flip & 1:\n",
    "        xx = xx[::-1]\n",
    "        yy = yy[::-1]\n",
    "    if flip & 2:\n",
    "        xx = xx[:,::-1]\n",
    "        yy = yy[:,::-1]\n",
    "    \n",
    "    return xx, yy\n",
    "\n",
    "def soften_edges(dist, cutoff):\n",
    "    \"\"\"d is an array containing the distance (in some metric) of its\n",
    "    coordinates to some point. This function is meant to provide a smoother\n",
    "    version of the function that is 1 if \"d <= cutoff\" and 0 otherwise.\"\"\"\n",
    "    \n",
    "    return 1/(1+np.exp(10 * (dist - cutoff)))\n",
    "\n",
    "def get_random_ellipse(max_width, max_height):\n",
    "    \"\"\"Return an arry of size width x height with value 1 inside an ellipse\n",
    "    and 0 outside. The dimensions and radius of the ellipse are random.\"\"\"\n",
    "    xx, yy = get_transformed_coordinates(max_width, max_height)\n",
    "    \n",
    "#     print(f\"ellipse xx, yy: {xx}, {yy}\")\n",
    "    \n",
    "    return xx**2 + yy**2 <= 1\n",
    "\n",
    "#     dist = xx**2 + yy**2\n",
    "#     return soften_edges(dist, cutoff=1)\n",
    "\n",
    "def get_random_rectangle(max_width, max_height):\n",
    "    \"\"\"Return an arry of size width x height with value 1 inside an ellipse\n",
    "    and 0 outside. The dimensions and radius of the ellipse are random.\"\"\"\n",
    "    xx, yy = get_transformed_coordinates(max_width, max_height)\n",
    "    \n",
    "#     print(f\"rectangle xx, yy: {xx}, {yy}\")\n",
    "    \n",
    "    return np.maximum(np.abs(xx), np.abs(yy)) <= 1\n",
    "#     dist = np.maximum(np.abs(xx), np.abs(yy))\n",
    "\n",
    "#     return soften_edges(dist, cutoff=1)\n",
    "\n",
    "def get_random_triangle(max_width, max_height):\n",
    "    xx, yy = get_transformed_coordinates(max_width, max_height)\n",
    "    xx /= np.sqrt(2)\n",
    "    yy /= np.sqrt(2)\n",
    "    \n",
    "    return np.logical_and(np.abs(xx) + np.abs(yy) <= 1, xx > 0)\n",
    "\n",
    "def construct_random_image(max_width, max_height):\n",
    "    # We render the images at a higher resolution and then downscale for\n",
    "    # anti-aliasing. \"rf\" is for \"render factor\".\n",
    "    rf = 4\n",
    "    \n",
    "    arr = np.zeros((rf * max_width, rf * max_height), dtype=np.float64)\n",
    "    \n",
    "    funcs = [get_random_ellipse, get_random_rectangle, get_random_triangle]\n",
    "    \n",
    "    for f in random.choice(funcs, random.integers(1, 4)):\n",
    "        arr += f(rf * max_width, rf * max_height) / 3\n",
    "    \n",
    "    image = Image.fromarray(arr)\n",
    "    image = image.resize((max_width, max_height), resample=Image.ANTIALIAS)\n",
    "\n",
    "    return np.array(image)\n"
   ]
  },
  {
   "cell_type": "markdown",
   "id": "c05fc7e7",
   "metadata": {},
   "source": [
    "## Testing the image generation"
   ]
  },
  {
   "cell_type": "code",
   "execution_count": 50,
   "id": "352789b8",
   "metadata": {
    "scrolled": true
   },
   "outputs": [
    {
     "data": {
      "image/png": "[encoded data removed]",
      "text/plain": [
       "<Figure size 720x720 with 12 Axes>"
      ]
     },
     "metadata": {},
     "output_type": "display_data"
    }
   ],
   "source": [
    "fig, axs = plt.subplots(3, 4, figsize=(10, 10))\n",
    "\n",
    "for ax in axs.flat:\n",
    "    ax.imshow(construct_random_image(128, 128), \n",
    "              vmin=0, vmax=1\n",
    "             )\n",
    "    ax.set_xticks([])\n",
    "    ax.set_yticks([])\n",
    "    \n",
    "fig.tight_layout()"
   ]
  },
  {
   "cell_type": "markdown",
   "id": "4bc1b8be",
   "metadata": {},
   "source": [
    "## Generate the shapes dataset and save to file"
   ]
  },
  {
   "cell_type": "code",
   "execution_count": 51,
   "id": "1a4a5af7",
   "metadata": {},
   "outputs": [],
   "source": [
    "path = \"shapes-dataset.npz\"\n",
    "\n",
    "dataset = list()\n",
    "\n",
    "for i in range(512):\n",
    "    true_image  = construct_random_image(128, 128)\n",
    "    noisy_image = add_scan_noise(image)\n",
    "\n",
    "dataset = [construct_random_image(128, 128) for _ in range(512)]\n",
    "\n",
    "np.savez(path, *dataset)"
   ]
  }
 ],
 "metadata": {
  "kernelspec": {
   "display_name": "Python 3 (ipykernel)",
   "language": "python",
   "name": "python3"
  },
  "language_info": {
   "codemirror_mode": {
    "name": "ipython",
    "version": 3
   },
   "file_extension": ".py",
   "mimetype": "text/x-python",
   "name": "python",
   "nbconvert_exporter": "python",
   "pygments_lexer": "ipython3",
   "version": "3.9.5"
  }
 },
 "nbformat": 4,
 "nbformat_minor": 5
}
